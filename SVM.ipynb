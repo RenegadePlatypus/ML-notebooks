{
  "nbformat": 4,
  "nbformat_minor": 0,
  "metadata": {
    "colab": {
      "provenance": []
    },
    "kernelspec": {
      "name": "python3",
      "display_name": "Python 3"
    },
    "language_info": {
      "name": "python"
    }
  },
  "cells": [
    {
      "cell_type": "code",
      "execution_count": null,
      "metadata": {
        "id": "lSvbJWHltTtI"
      },
      "outputs": [],
      "source": [
        "import numpy as np\n",
        "import pandas as pd\n",
        "from sklearn.model_selection import train_test_split\n",
        "import matplotlib.pyplot as plt"
      ]
    },
    {
      "cell_type": "code",
      "source": [
        "df = pd.read_csv('Social_Network_Ads.csv')"
      ],
      "metadata": {
        "id": "2b_4ozeztnaM"
      },
      "execution_count": null,
      "outputs": []
    },
    {
      "cell_type": "code",
      "source": [
        "df.head()"
      ],
      "metadata": {
        "colab": {
          "base_uri": "https://localhost:8080/",
          "height": 206
        },
        "id": "Cn9RfizUt4k6",
        "outputId": "5d6271c0-b960-41de-e26e-cdb19a7c7777"
      },
      "execution_count": null,
      "outputs": [
        {
          "output_type": "execute_result",
          "data": {
            "text/plain": [
              "    User ID  Gender  Age  EstimatedSalary  Purchased\n",
              "0  15624510    Male   19            19000          0\n",
              "1  15810944    Male   35            20000          0\n",
              "2  15668575  Female   26            43000          0\n",
              "3  15603246  Female   27            57000          0\n",
              "4  15804002    Male   19            76000          0"
            ],
            "text/html": [
              "\n",
              "  <div id=\"df-988f2296-57cf-45f6-b558-52b0fbb93045\">\n",
              "    <div class=\"colab-df-container\">\n",
              "      <div>\n",
              "<style scoped>\n",
              "    .dataframe tbody tr th:only-of-type {\n",
              "        vertical-align: middle;\n",
              "    }\n",
              "\n",
              "    .dataframe tbody tr th {\n",
              "        vertical-align: top;\n",
              "    }\n",
              "\n",
              "    .dataframe thead th {\n",
              "        text-align: right;\n",
              "    }\n",
              "</style>\n",
              "<table border=\"1\" class=\"dataframe\">\n",
              "  <thead>\n",
              "    <tr style=\"text-align: right;\">\n",
              "      <th></th>\n",
              "      <th>User ID</th>\n",
              "      <th>Gender</th>\n",
              "      <th>Age</th>\n",
              "      <th>EstimatedSalary</th>\n",
              "      <th>Purchased</th>\n",
              "    </tr>\n",
              "  </thead>\n",
              "  <tbody>\n",
              "    <tr>\n",
              "      <th>0</th>\n",
              "      <td>15624510</td>\n",
              "      <td>Male</td>\n",
              "      <td>19</td>\n",
              "      <td>19000</td>\n",
              "      <td>0</td>\n",
              "    </tr>\n",
              "    <tr>\n",
              "      <th>1</th>\n",
              "      <td>15810944</td>\n",
              "      <td>Male</td>\n",
              "      <td>35</td>\n",
              "      <td>20000</td>\n",
              "      <td>0</td>\n",
              "    </tr>\n",
              "    <tr>\n",
              "      <th>2</th>\n",
              "      <td>15668575</td>\n",
              "      <td>Female</td>\n",
              "      <td>26</td>\n",
              "      <td>43000</td>\n",
              "      <td>0</td>\n",
              "    </tr>\n",
              "    <tr>\n",
              "      <th>3</th>\n",
              "      <td>15603246</td>\n",
              "      <td>Female</td>\n",
              "      <td>27</td>\n",
              "      <td>57000</td>\n",
              "      <td>0</td>\n",
              "    </tr>\n",
              "    <tr>\n",
              "      <th>4</th>\n",
              "      <td>15804002</td>\n",
              "      <td>Male</td>\n",
              "      <td>19</td>\n",
              "      <td>76000</td>\n",
              "      <td>0</td>\n",
              "    </tr>\n",
              "  </tbody>\n",
              "</table>\n",
              "</div>\n",
              "      <button class=\"colab-df-convert\" onclick=\"convertToInteractive('df-988f2296-57cf-45f6-b558-52b0fbb93045')\"\n",
              "              title=\"Convert this dataframe to an interactive table.\"\n",
              "              style=\"display:none;\">\n",
              "        \n",
              "  <svg xmlns=\"http://www.w3.org/2000/svg\" height=\"24px\"viewBox=\"0 0 24 24\"\n",
              "       width=\"24px\">\n",
              "    <path d=\"M0 0h24v24H0V0z\" fill=\"none\"/>\n",
              "    <path d=\"M18.56 5.44l.94 2.06.94-2.06 2.06-.94-2.06-.94-.94-2.06-.94 2.06-2.06.94zm-11 1L8.5 8.5l.94-2.06 2.06-.94-2.06-.94L8.5 2.5l-.94 2.06-2.06.94zm10 10l.94 2.06.94-2.06 2.06-.94-2.06-.94-.94-2.06-.94 2.06-2.06.94z\"/><path d=\"M17.41 7.96l-1.37-1.37c-.4-.4-.92-.59-1.43-.59-.52 0-1.04.2-1.43.59L10.3 9.45l-7.72 7.72c-.78.78-.78 2.05 0 2.83L4 21.41c.39.39.9.59 1.41.59.51 0 1.02-.2 1.41-.59l7.78-7.78 2.81-2.81c.8-.78.8-2.07 0-2.86zM5.41 20L4 18.59l7.72-7.72 1.47 1.35L5.41 20z\"/>\n",
              "  </svg>\n",
              "      </button>\n",
              "      \n",
              "  <style>\n",
              "    .colab-df-container {\n",
              "      display:flex;\n",
              "      flex-wrap:wrap;\n",
              "      gap: 12px;\n",
              "    }\n",
              "\n",
              "    .colab-df-convert {\n",
              "      background-color: #E8F0FE;\n",
              "      border: none;\n",
              "      border-radius: 50%;\n",
              "      cursor: pointer;\n",
              "      display: none;\n",
              "      fill: #1967D2;\n",
              "      height: 32px;\n",
              "      padding: 0 0 0 0;\n",
              "      width: 32px;\n",
              "    }\n",
              "\n",
              "    .colab-df-convert:hover {\n",
              "      background-color: #E2EBFA;\n",
              "      box-shadow: 0px 1px 2px rgba(60, 64, 67, 0.3), 0px 1px 3px 1px rgba(60, 64, 67, 0.15);\n",
              "      fill: #174EA6;\n",
              "    }\n",
              "\n",
              "    [theme=dark] .colab-df-convert {\n",
              "      background-color: #3B4455;\n",
              "      fill: #D2E3FC;\n",
              "    }\n",
              "\n",
              "    [theme=dark] .colab-df-convert:hover {\n",
              "      background-color: #434B5C;\n",
              "      box-shadow: 0px 1px 3px 1px rgba(0, 0, 0, 0.15);\n",
              "      filter: drop-shadow(0px 1px 2px rgba(0, 0, 0, 0.3));\n",
              "      fill: #FFFFFF;\n",
              "    }\n",
              "  </style>\n",
              "\n",
              "      <script>\n",
              "        const buttonEl =\n",
              "          document.querySelector('#df-988f2296-57cf-45f6-b558-52b0fbb93045 button.colab-df-convert');\n",
              "        buttonEl.style.display =\n",
              "          google.colab.kernel.accessAllowed ? 'block' : 'none';\n",
              "\n",
              "        async function convertToInteractive(key) {\n",
              "          const element = document.querySelector('#df-988f2296-57cf-45f6-b558-52b0fbb93045');\n",
              "          const dataTable =\n",
              "            await google.colab.kernel.invokeFunction('convertToInteractive',\n",
              "                                                     [key], {});\n",
              "          if (!dataTable) return;\n",
              "\n",
              "          const docLinkHtml = 'Like what you see? Visit the ' +\n",
              "            '<a target=\"_blank\" href=https://colab.research.google.com/notebooks/data_table.ipynb>data table notebook</a>'\n",
              "            + ' to learn more about interactive tables.';\n",
              "          element.innerHTML = '';\n",
              "          dataTable['output_type'] = 'display_data';\n",
              "          await google.colab.output.renderOutput(dataTable, element);\n",
              "          const docLink = document.createElement('div');\n",
              "          docLink.innerHTML = docLinkHtml;\n",
              "          element.appendChild(docLink);\n",
              "        }\n",
              "      </script>\n",
              "    </div>\n",
              "  </div>\n",
              "  "
            ]
          },
          "metadata": {},
          "execution_count": 3
        }
      ]
    },
    {
      "cell_type": "code",
      "source": [
        "df.describe()"
      ],
      "metadata": {
        "colab": {
          "base_uri": "https://localhost:8080/",
          "height": 300
        },
        "id": "0jJUB0zQt6Mx",
        "outputId": "3b6b4a95-c733-4cea-ad3c-e8d498457f1e"
      },
      "execution_count": null,
      "outputs": [
        {
          "output_type": "execute_result",
          "data": {
            "text/plain": [
              "            User ID         Age  EstimatedSalary   Purchased\n",
              "count  4.000000e+02  400.000000       400.000000  400.000000\n",
              "mean   1.569154e+07   37.655000     69742.500000    0.357500\n",
              "std    7.165832e+04   10.482877     34096.960282    0.479864\n",
              "min    1.556669e+07   18.000000     15000.000000    0.000000\n",
              "25%    1.562676e+07   29.750000     43000.000000    0.000000\n",
              "50%    1.569434e+07   37.000000     70000.000000    0.000000\n",
              "75%    1.575036e+07   46.000000     88000.000000    1.000000\n",
              "max    1.581524e+07   60.000000    150000.000000    1.000000"
            ],
            "text/html": [
              "\n",
              "  <div id=\"df-3d54b39f-111b-4cc0-bace-0b2803bf2077\">\n",
              "    <div class=\"colab-df-container\">\n",
              "      <div>\n",
              "<style scoped>\n",
              "    .dataframe tbody tr th:only-of-type {\n",
              "        vertical-align: middle;\n",
              "    }\n",
              "\n",
              "    .dataframe tbody tr th {\n",
              "        vertical-align: top;\n",
              "    }\n",
              "\n",
              "    .dataframe thead th {\n",
              "        text-align: right;\n",
              "    }\n",
              "</style>\n",
              "<table border=\"1\" class=\"dataframe\">\n",
              "  <thead>\n",
              "    <tr style=\"text-align: right;\">\n",
              "      <th></th>\n",
              "      <th>User ID</th>\n",
              "      <th>Age</th>\n",
              "      <th>EstimatedSalary</th>\n",
              "      <th>Purchased</th>\n",
              "    </tr>\n",
              "  </thead>\n",
              "  <tbody>\n",
              "    <tr>\n",
              "      <th>count</th>\n",
              "      <td>4.000000e+02</td>\n",
              "      <td>400.000000</td>\n",
              "      <td>400.000000</td>\n",
              "      <td>400.000000</td>\n",
              "    </tr>\n",
              "    <tr>\n",
              "      <th>mean</th>\n",
              "      <td>1.569154e+07</td>\n",
              "      <td>37.655000</td>\n",
              "      <td>69742.500000</td>\n",
              "      <td>0.357500</td>\n",
              "    </tr>\n",
              "    <tr>\n",
              "      <th>std</th>\n",
              "      <td>7.165832e+04</td>\n",
              "      <td>10.482877</td>\n",
              "      <td>34096.960282</td>\n",
              "      <td>0.479864</td>\n",
              "    </tr>\n",
              "    <tr>\n",
              "      <th>min</th>\n",
              "      <td>1.556669e+07</td>\n",
              "      <td>18.000000</td>\n",
              "      <td>15000.000000</td>\n",
              "      <td>0.000000</td>\n",
              "    </tr>\n",
              "    <tr>\n",
              "      <th>25%</th>\n",
              "      <td>1.562676e+07</td>\n",
              "      <td>29.750000</td>\n",
              "      <td>43000.000000</td>\n",
              "      <td>0.000000</td>\n",
              "    </tr>\n",
              "    <tr>\n",
              "      <th>50%</th>\n",
              "      <td>1.569434e+07</td>\n",
              "      <td>37.000000</td>\n",
              "      <td>70000.000000</td>\n",
              "      <td>0.000000</td>\n",
              "    </tr>\n",
              "    <tr>\n",
              "      <th>75%</th>\n",
              "      <td>1.575036e+07</td>\n",
              "      <td>46.000000</td>\n",
              "      <td>88000.000000</td>\n",
              "      <td>1.000000</td>\n",
              "    </tr>\n",
              "    <tr>\n",
              "      <th>max</th>\n",
              "      <td>1.581524e+07</td>\n",
              "      <td>60.000000</td>\n",
              "      <td>150000.000000</td>\n",
              "      <td>1.000000</td>\n",
              "    </tr>\n",
              "  </tbody>\n",
              "</table>\n",
              "</div>\n",
              "      <button class=\"colab-df-convert\" onclick=\"convertToInteractive('df-3d54b39f-111b-4cc0-bace-0b2803bf2077')\"\n",
              "              title=\"Convert this dataframe to an interactive table.\"\n",
              "              style=\"display:none;\">\n",
              "        \n",
              "  <svg xmlns=\"http://www.w3.org/2000/svg\" height=\"24px\"viewBox=\"0 0 24 24\"\n",
              "       width=\"24px\">\n",
              "    <path d=\"M0 0h24v24H0V0z\" fill=\"none\"/>\n",
              "    <path d=\"M18.56 5.44l.94 2.06.94-2.06 2.06-.94-2.06-.94-.94-2.06-.94 2.06-2.06.94zm-11 1L8.5 8.5l.94-2.06 2.06-.94-2.06-.94L8.5 2.5l-.94 2.06-2.06.94zm10 10l.94 2.06.94-2.06 2.06-.94-2.06-.94-.94-2.06-.94 2.06-2.06.94z\"/><path d=\"M17.41 7.96l-1.37-1.37c-.4-.4-.92-.59-1.43-.59-.52 0-1.04.2-1.43.59L10.3 9.45l-7.72 7.72c-.78.78-.78 2.05 0 2.83L4 21.41c.39.39.9.59 1.41.59.51 0 1.02-.2 1.41-.59l7.78-7.78 2.81-2.81c.8-.78.8-2.07 0-2.86zM5.41 20L4 18.59l7.72-7.72 1.47 1.35L5.41 20z\"/>\n",
              "  </svg>\n",
              "      </button>\n",
              "      \n",
              "  <style>\n",
              "    .colab-df-container {\n",
              "      display:flex;\n",
              "      flex-wrap:wrap;\n",
              "      gap: 12px;\n",
              "    }\n",
              "\n",
              "    .colab-df-convert {\n",
              "      background-color: #E8F0FE;\n",
              "      border: none;\n",
              "      border-radius: 50%;\n",
              "      cursor: pointer;\n",
              "      display: none;\n",
              "      fill: #1967D2;\n",
              "      height: 32px;\n",
              "      padding: 0 0 0 0;\n",
              "      width: 32px;\n",
              "    }\n",
              "\n",
              "    .colab-df-convert:hover {\n",
              "      background-color: #E2EBFA;\n",
              "      box-shadow: 0px 1px 2px rgba(60, 64, 67, 0.3), 0px 1px 3px 1px rgba(60, 64, 67, 0.15);\n",
              "      fill: #174EA6;\n",
              "    }\n",
              "\n",
              "    [theme=dark] .colab-df-convert {\n",
              "      background-color: #3B4455;\n",
              "      fill: #D2E3FC;\n",
              "    }\n",
              "\n",
              "    [theme=dark] .colab-df-convert:hover {\n",
              "      background-color: #434B5C;\n",
              "      box-shadow: 0px 1px 3px 1px rgba(0, 0, 0, 0.15);\n",
              "      filter: drop-shadow(0px 1px 2px rgba(0, 0, 0, 0.3));\n",
              "      fill: #FFFFFF;\n",
              "    }\n",
              "  </style>\n",
              "\n",
              "      <script>\n",
              "        const buttonEl =\n",
              "          document.querySelector('#df-3d54b39f-111b-4cc0-bace-0b2803bf2077 button.colab-df-convert');\n",
              "        buttonEl.style.display =\n",
              "          google.colab.kernel.accessAllowed ? 'block' : 'none';\n",
              "\n",
              "        async function convertToInteractive(key) {\n",
              "          const element = document.querySelector('#df-3d54b39f-111b-4cc0-bace-0b2803bf2077');\n",
              "          const dataTable =\n",
              "            await google.colab.kernel.invokeFunction('convertToInteractive',\n",
              "                                                     [key], {});\n",
              "          if (!dataTable) return;\n",
              "\n",
              "          const docLinkHtml = 'Like what you see? Visit the ' +\n",
              "            '<a target=\"_blank\" href=https://colab.research.google.com/notebooks/data_table.ipynb>data table notebook</a>'\n",
              "            + ' to learn more about interactive tables.';\n",
              "          element.innerHTML = '';\n",
              "          dataTable['output_type'] = 'display_data';\n",
              "          await google.colab.output.renderOutput(dataTable, element);\n",
              "          const docLink = document.createElement('div');\n",
              "          docLink.innerHTML = docLinkHtml;\n",
              "          element.appendChild(docLink);\n",
              "        }\n",
              "      </script>\n",
              "    </div>\n",
              "  </div>\n",
              "  "
            ]
          },
          "metadata": {},
          "execution_count": 4
        }
      ]
    },
    {
      "cell_type": "code",
      "source": [
        "df.info()"
      ],
      "metadata": {
        "colab": {
          "base_uri": "https://localhost:8080/"
        },
        "id": "n6ulcc7_t9GB",
        "outputId": "f51c6ea2-422d-4e87-c83b-2382a9ffbfb1"
      },
      "execution_count": null,
      "outputs": [
        {
          "output_type": "stream",
          "name": "stdout",
          "text": [
            "<class 'pandas.core.frame.DataFrame'>\n",
            "RangeIndex: 400 entries, 0 to 399\n",
            "Data columns (total 5 columns):\n",
            " #   Column           Non-Null Count  Dtype \n",
            "---  ------           --------------  ----- \n",
            " 0   User ID          400 non-null    int64 \n",
            " 1   Gender           400 non-null    object\n",
            " 2   Age              400 non-null    int64 \n",
            " 3   EstimatedSalary  400 non-null    int64 \n",
            " 4   Purchased        400 non-null    int64 \n",
            "dtypes: int64(4), object(1)\n",
            "memory usage: 15.8+ KB\n"
          ]
        }
      ]
    },
    {
      "cell_type": "code",
      "source": [
        "df.corr()"
      ],
      "metadata": {
        "colab": {
          "base_uri": "https://localhost:8080/",
          "height": 174
        },
        "id": "Rd3MLtBpt-hR",
        "outputId": "1ab39bbd-5469-4901-9e6e-a48a4454f713"
      },
      "execution_count": null,
      "outputs": [
        {
          "output_type": "execute_result",
          "data": {
            "text/plain": [
              "                  User ID       Age  EstimatedSalary  Purchased\n",
              "User ID          1.000000 -0.000721         0.071097   0.007120\n",
              "Age             -0.000721  1.000000         0.155238   0.622454\n",
              "EstimatedSalary  0.071097  0.155238         1.000000   0.362083\n",
              "Purchased        0.007120  0.622454         0.362083   1.000000"
            ],
            "text/html": [
              "\n",
              "  <div id=\"df-3ef6d10c-a255-423a-8a71-e8d9f69a2b05\">\n",
              "    <div class=\"colab-df-container\">\n",
              "      <div>\n",
              "<style scoped>\n",
              "    .dataframe tbody tr th:only-of-type {\n",
              "        vertical-align: middle;\n",
              "    }\n",
              "\n",
              "    .dataframe tbody tr th {\n",
              "        vertical-align: top;\n",
              "    }\n",
              "\n",
              "    .dataframe thead th {\n",
              "        text-align: right;\n",
              "    }\n",
              "</style>\n",
              "<table border=\"1\" class=\"dataframe\">\n",
              "  <thead>\n",
              "    <tr style=\"text-align: right;\">\n",
              "      <th></th>\n",
              "      <th>User ID</th>\n",
              "      <th>Age</th>\n",
              "      <th>EstimatedSalary</th>\n",
              "      <th>Purchased</th>\n",
              "    </tr>\n",
              "  </thead>\n",
              "  <tbody>\n",
              "    <tr>\n",
              "      <th>User ID</th>\n",
              "      <td>1.000000</td>\n",
              "      <td>-0.000721</td>\n",
              "      <td>0.071097</td>\n",
              "      <td>0.007120</td>\n",
              "    </tr>\n",
              "    <tr>\n",
              "      <th>Age</th>\n",
              "      <td>-0.000721</td>\n",
              "      <td>1.000000</td>\n",
              "      <td>0.155238</td>\n",
              "      <td>0.622454</td>\n",
              "    </tr>\n",
              "    <tr>\n",
              "      <th>EstimatedSalary</th>\n",
              "      <td>0.071097</td>\n",
              "      <td>0.155238</td>\n",
              "      <td>1.000000</td>\n",
              "      <td>0.362083</td>\n",
              "    </tr>\n",
              "    <tr>\n",
              "      <th>Purchased</th>\n",
              "      <td>0.007120</td>\n",
              "      <td>0.622454</td>\n",
              "      <td>0.362083</td>\n",
              "      <td>1.000000</td>\n",
              "    </tr>\n",
              "  </tbody>\n",
              "</table>\n",
              "</div>\n",
              "      <button class=\"colab-df-convert\" onclick=\"convertToInteractive('df-3ef6d10c-a255-423a-8a71-e8d9f69a2b05')\"\n",
              "              title=\"Convert this dataframe to an interactive table.\"\n",
              "              style=\"display:none;\">\n",
              "        \n",
              "  <svg xmlns=\"http://www.w3.org/2000/svg\" height=\"24px\"viewBox=\"0 0 24 24\"\n",
              "       width=\"24px\">\n",
              "    <path d=\"M0 0h24v24H0V0z\" fill=\"none\"/>\n",
              "    <path d=\"M18.56 5.44l.94 2.06.94-2.06 2.06-.94-2.06-.94-.94-2.06-.94 2.06-2.06.94zm-11 1L8.5 8.5l.94-2.06 2.06-.94-2.06-.94L8.5 2.5l-.94 2.06-2.06.94zm10 10l.94 2.06.94-2.06 2.06-.94-2.06-.94-.94-2.06-.94 2.06-2.06.94z\"/><path d=\"M17.41 7.96l-1.37-1.37c-.4-.4-.92-.59-1.43-.59-.52 0-1.04.2-1.43.59L10.3 9.45l-7.72 7.72c-.78.78-.78 2.05 0 2.83L4 21.41c.39.39.9.59 1.41.59.51 0 1.02-.2 1.41-.59l7.78-7.78 2.81-2.81c.8-.78.8-2.07 0-2.86zM5.41 20L4 18.59l7.72-7.72 1.47 1.35L5.41 20z\"/>\n",
              "  </svg>\n",
              "      </button>\n",
              "      \n",
              "  <style>\n",
              "    .colab-df-container {\n",
              "      display:flex;\n",
              "      flex-wrap:wrap;\n",
              "      gap: 12px;\n",
              "    }\n",
              "\n",
              "    .colab-df-convert {\n",
              "      background-color: #E8F0FE;\n",
              "      border: none;\n",
              "      border-radius: 50%;\n",
              "      cursor: pointer;\n",
              "      display: none;\n",
              "      fill: #1967D2;\n",
              "      height: 32px;\n",
              "      padding: 0 0 0 0;\n",
              "      width: 32px;\n",
              "    }\n",
              "\n",
              "    .colab-df-convert:hover {\n",
              "      background-color: #E2EBFA;\n",
              "      box-shadow: 0px 1px 2px rgba(60, 64, 67, 0.3), 0px 1px 3px 1px rgba(60, 64, 67, 0.15);\n",
              "      fill: #174EA6;\n",
              "    }\n",
              "\n",
              "    [theme=dark] .colab-df-convert {\n",
              "      background-color: #3B4455;\n",
              "      fill: #D2E3FC;\n",
              "    }\n",
              "\n",
              "    [theme=dark] .colab-df-convert:hover {\n",
              "      background-color: #434B5C;\n",
              "      box-shadow: 0px 1px 3px 1px rgba(0, 0, 0, 0.15);\n",
              "      filter: drop-shadow(0px 1px 2px rgba(0, 0, 0, 0.3));\n",
              "      fill: #FFFFFF;\n",
              "    }\n",
              "  </style>\n",
              "\n",
              "      <script>\n",
              "        const buttonEl =\n",
              "          document.querySelector('#df-3ef6d10c-a255-423a-8a71-e8d9f69a2b05 button.colab-df-convert');\n",
              "        buttonEl.style.display =\n",
              "          google.colab.kernel.accessAllowed ? 'block' : 'none';\n",
              "\n",
              "        async function convertToInteractive(key) {\n",
              "          const element = document.querySelector('#df-3ef6d10c-a255-423a-8a71-e8d9f69a2b05');\n",
              "          const dataTable =\n",
              "            await google.colab.kernel.invokeFunction('convertToInteractive',\n",
              "                                                     [key], {});\n",
              "          if (!dataTable) return;\n",
              "\n",
              "          const docLinkHtml = 'Like what you see? Visit the ' +\n",
              "            '<a target=\"_blank\" href=https://colab.research.google.com/notebooks/data_table.ipynb>data table notebook</a>'\n",
              "            + ' to learn more about interactive tables.';\n",
              "          element.innerHTML = '';\n",
              "          dataTable['output_type'] = 'display_data';\n",
              "          await google.colab.output.renderOutput(dataTable, element);\n",
              "          const docLink = document.createElement('div');\n",
              "          docLink.innerHTML = docLinkHtml;\n",
              "          element.appendChild(docLink);\n",
              "        }\n",
              "      </script>\n",
              "    </div>\n",
              "  </div>\n",
              "  "
            ]
          },
          "metadata": {},
          "execution_count": 6
        }
      ]
    },
    {
      "cell_type": "code",
      "source": [
        "import seaborn as sns"
      ],
      "metadata": {
        "id": "avE4ao-2wAmF"
      },
      "execution_count": null,
      "outputs": []
    },
    {
      "cell_type": "code",
      "source": [
        "sns.heatmap(df.corr(),annot=True,cmap='viridis')"
      ],
      "metadata": {
        "colab": {
          "base_uri": "https://localhost:8080/",
          "height": 287
        },
        "id": "ccmJS-U4wwfj",
        "outputId": "0381bbc7-6ddb-412c-c2eb-2311de1b3f34"
      },
      "execution_count": null,
      "outputs": [
        {
          "output_type": "execute_result",
          "data": {
            "text/plain": [
              "<matplotlib.axes._subplots.AxesSubplot at 0x7f9c18461650>"
            ]
          },
          "metadata": {},
          "execution_count": 10
        },
        {
          "output_type": "display_data",
          "data": {
            "text/plain": [
              "<Figure size 432x288 with 2 Axes>"
            ],
            "image/png": "[encoded data removed]"
          },
          "metadata": {
            "needs_background": "light"
          }
        }
      ]
    },
    {
      "cell_type": "code",
      "source": [
        "X = df.iloc[:,2:4].values"
      ],
      "metadata": {
        "id": "XMUEwvDRw2Yz"
      },
      "execution_count": null,
      "outputs": []
    },
    {
      "cell_type": "code",
      "source": [
        "Y = df.iloc[:,4].values"
      ],
      "metadata": {
        "id": "O97ko_XxyHsw"
      },
      "execution_count": null,
      "outputs": []
    },
    {
      "cell_type": "code",
      "source": [
        "type(X)"
      ],
      "metadata": {
        "colab": {
          "base_uri": "https://localhost:8080/"
        },
        "id": "A9K0w-0IyTF4",
        "outputId": "0f1884a4-06eb-45dc-bb6d-ff91825e66da"
      },
      "execution_count": null,
      "outputs": [
        {
          "output_type": "execute_result",
          "data": {
            "text/plain": [
              "numpy.ndarray"
            ]
          },
          "metadata": {},
          "execution_count": 19
        }
      ]
    },
    {
      "cell_type": "code",
      "source": [
        "Y.shape"
      ],
      "metadata": {
        "colab": {
          "base_uri": "https://localhost:8080/"
        },
        "id": "dt7Pd6z9yYEg",
        "outputId": "96e317ef-d5d2-47ec-e85e-835584c9d50d"
      },
      "execution_count": null,
      "outputs": [
        {
          "output_type": "execute_result",
          "data": {
            "text/plain": [
              "(400,)"
            ]
          },
          "metadata": {},
          "execution_count": 22
        }
      ]
    },
    {
      "cell_type": "code",
      "source": [
        "from sklearn.preprocessing import StandardScaler"
      ],
      "metadata": {
        "id": "BmHR8CG8yaVo"
      },
      "execution_count": null,
      "outputs": []
    },
    {
      "cell_type": "code",
      "source": [
        "plt.scatter(X[:,0:1],X[:,1:2],c=Y,marker='*')"
      ],
      "metadata": {
        "colab": {
          "base_uri": "https://localhost:8080/",
          "height": 283
        },
        "id": "DGhEumxWzDnu",
        "outputId": "83f6dd84-16b4-425e-8b2f-cbffc20f3a8e"
      },
      "execution_count": null,
      "outputs": [
        {
          "output_type": "execute_result",
          "data": {
            "text/plain": [
              "<matplotlib.collections.PathCollection at 0x7f9c15ee9290>"
            ]
          },
          "metadata": {},
          "execution_count": 33
        },
        {
          "output_type": "display_data",
          "data": {
            "text/plain": [
              "<Figure size 432x288 with 1 Axes>"
            ],
            "image/png": "[encoded data removed]"
          },
          "metadata": {
            "needs_background": "light"
          }
        }
      ]
    },
    {
      "cell_type": "code",
      "source": [
        "x_train,x_test,y_train,y_test= train_test_split(X,Y,test_size=0.4)"
      ],
      "metadata": {
        "id": "lP44e0ebzdaV"
      },
      "execution_count": null,
      "outputs": []
    },
    {
      "cell_type": "code",
      "source": [
        "x_test.shape"
      ],
      "metadata": {
        "colab": {
          "base_uri": "https://localhost:8080/"
        },
        "id": "WuoiVSOp1mIo",
        "outputId": "9baef5fc-fc3e-4e6d-b9b5-f7bb6dbab82f"
      },
      "execution_count": null,
      "outputs": [
        {
          "output_type": "execute_result",
          "data": {
            "text/plain": [
              "(160, 2)"
            ]
          },
          "metadata": {},
          "execution_count": 64
        }
      ]
    },
    {
      "cell_type": "code",
      "source": [
        "x_cv,x_t1,y_cv,y_t1=train_test_split(x_test,y_test,test_size=0.5)"
      ],
      "metadata": {
        "id": "EjHjbDkb2GZn"
      },
      "execution_count": null,
      "outputs": []
    },
    {
      "cell_type": "code",
      "source": [
        " x_cv.shape"
      ],
      "metadata": {
        "colab": {
          "base_uri": "https://localhost:8080/"
        },
        "id": "DMJZFHM12bp2",
        "outputId": "969f371c-cd17-4925-afef-fa536f8e7236"
      },
      "execution_count": null,
      "outputs": [
        {
          "output_type": "execute_result",
          "data": {
            "text/plain": [
              "(80, 2)"
            ]
          },
          "metadata": {},
          "execution_count": 66
        }
      ]
    },
    {
      "cell_type": "code",
      "source": [
        "y_t1.shape"
      ],
      "metadata": {
        "colab": {
          "base_uri": "https://localhost:8080/"
        },
        "id": "etYq4Wyn28dl",
        "outputId": "c164c8a9-e59e-4bbb-b6bc-ecf6a98865e8"
      },
      "execution_count": null,
      "outputs": [
        {
          "output_type": "execute_result",
          "data": {
            "text/plain": [
              "(80,)"
            ]
          },
          "metadata": {},
          "execution_count": 67
        }
      ]
    },
    {
      "cell_type": "code",
      "source": [
        "Sc = StandardScaler()"
      ],
      "metadata": {
        "id": "VJKjy77u2-9F"
      },
      "execution_count": null,
      "outputs": []
    },
    {
      "cell_type": "code",
      "source": [
        "x_train = Sc.fit_transform(x_train)"
      ],
      "metadata": {
        "id": "84uQeDR13cvk"
      },
      "execution_count": null,
      "outputs": []
    },
    {
      "cell_type": "code",
      "source": [
        "x_train"
      ],
      "metadata": {
        "colab": {
          "base_uri": "https://localhost:8080/"
        },
        "id": "sqs_uFR333UC",
        "outputId": "0a03732a-90ce-4a12-df4f-b7ec6545cd12"
      },
      "execution_count": null,
      "outputs": [
        {
          "output_type": "execute_result",
          "data": {
            "text/plain": [
              "array([[-1.71322801e+00, -6.32641920e-01],\n",
              "       [ 1.56229696e+00,  1.22783775e+00],\n",
              "       [-1.23153316e+00,  6.60233780e-01],\n",
              "       [-5.57160374e-01,  2.55224700e+00],\n",
              "       [ 4.06229322e-01,  3.44898243e-01],\n",
              "       [-6.53499344e-01,  1.54317328e+00],\n",
              "       [-9.42516253e-01, -7.90309688e-01],\n",
              "       [-1.03885522e+00,  4.71032458e-01],\n",
              "       [ 2.13551383e-01, -3.80373491e-01],\n",
              "       [ 3.09890352e-01,  6.10962602e-02],\n",
              "       [ 3.09890352e-01, -5.69574813e-01],\n",
              "       [ 1.17212413e-01,  2.04771014e+00],\n",
              "       [ 7.91585200e-01,  8.49435102e-01],\n",
              "       [-7.49838314e-01,  5.65633119e-01],\n",
              "       [-1.52055007e+00, -1.91172169e-01],\n",
              "       [ 1.08060211e+00, -1.04257812e+00],\n",
              "       [ 2.08734434e-02, -5.69574813e-01],\n",
              "       [ 8.87924170e-01, -1.54711498e+00],\n",
              "       [-6.53499344e-01,  2.18764028e-01],\n",
              "       [-8.46177283e-01,  4.39498904e-01],\n",
              "       [ 1.17212413e-01,  2.04771014e+00],\n",
              "       [-6.53499344e-01, -1.10564522e+00],\n",
              "       [ 2.14033078e+00, -7.27242581e-01],\n",
              "       [ 4.06229322e-01,  1.10170353e+00],\n",
              "       [-6.53499344e-01, -1.70478274e+00],\n",
              "       [ 4.06229322e-01,  3.13364689e-01],\n",
              "       [ 5.98907261e-01, -9.47977457e-01],\n",
              "       [-9.42516253e-01,  4.71032458e-01],\n",
              "       [ 1.65863593e+00, -9.47977457e-01],\n",
              "       [-6.53499344e-01, -3.35044008e-02],\n",
              "       [ 2.13551383e-01, -3.17306384e-01],\n",
              "       [-1.61688904e+00,  5.97166672e-01],\n",
              "       [-1.03885522e+00,  8.49435102e-01],\n",
              "       [ 5.02568292e-01,  1.89004237e+00],\n",
              "       [-1.71804496e-01, -4.74974152e-01],\n",
              "       [ 1.08060211e+00,  1.55696921e-01],\n",
              "       [ 3.09890352e-01,  9.26298139e-02],\n",
              "       [-2.68143465e-01, -3.48839937e-01],\n",
              "       [-2.68143465e-01, -6.95709027e-01],\n",
              "       [-1.52055007e+00, -4.43440598e-01],\n",
              "       [ 1.36961902e+00,  1.41703907e+00],\n",
              "       [ 3.09890352e-01, -3.17306384e-01],\n",
              "       [-1.32787213e+00, -1.32638010e+00],\n",
              "       [ 2.08734434e-02, -6.01108367e-01],\n",
              "       [-5.57160374e-01,  1.51163973e+00],\n",
              "       [ 1.46595799e+00,  1.10170353e+00],\n",
              "       [-7.54655262e-02, -2.22705723e-01],\n",
              "       [-6.53499344e-01, -3.48839937e-01],\n",
              "       [ 1.94765284e+00,  1.00710287e+00],\n",
              "       [-9.42516253e-01, -4.43440598e-01],\n",
              "       [-4.60821405e-01, -8.21843242e-01],\n",
              "       [-1.90590595e+00, -7.90309688e-01],\n",
              "       [-7.49838314e-01, -2.22705723e-01],\n",
              "       [-9.42516253e-01, -1.01104456e+00],\n",
              "       [-1.71804496e-01, -1.13717878e+00],\n",
              "       [-1.71322801e+00, -1.45251432e+00],\n",
              "       [ 4.06229322e-01, -4.74974152e-01],\n",
              "       [ 3.09890352e-01,  3.44898243e-01],\n",
              "       [ 8.87924170e-01, -1.45251432e+00],\n",
              "       [-8.46177283e-01, -8.21843242e-01],\n",
              "       [-1.23153316e+00,  3.44898243e-01],\n",
              "       [ 5.98907261e-01,  2.20537791e+00],\n",
              "       [-9.42516253e-01,  3.13364689e-01],\n",
              "       [-1.32787213e+00, -1.45251432e+00],\n",
              "       [ 7.91585200e-01,  3.13364689e-01],\n",
              "       [ 1.17212413e-01,  1.16477064e+00],\n",
              "       [ 2.08734434e-02, -3.17306384e-01],\n",
              "       [-2.68143465e-01, -1.54711498e+00],\n",
              "       [-3.64482435e-01, -1.38944721e+00],\n",
              "       [ 2.14033078e+00,  4.39498904e-01],\n",
              "       [ 2.08734434e-02,  3.44898243e-01],\n",
              "       [-1.71322801e+00,  1.55696921e-01],\n",
              "       [-7.49838314e-01, -6.32641920e-01],\n",
              "       [-2.68143465e-01, -3.80373491e-01],\n",
              "       [ 3.09890352e-01,  9.26298139e-02],\n",
              "       [-7.54655262e-02, -4.43440598e-01],\n",
              "       [ 1.56229696e+00,  1.10170353e+00],\n",
              "       [ 7.91585200e-01, -1.16871233e+00],\n",
              "       [-1.32787213e+00,  6.28700226e-01],\n",
              "       [-7.49838314e-01,  3.13364689e-01],\n",
              "       [-1.80956698e+00, -1.38944721e+00],\n",
              "       [ 9.84263140e-01,  1.55696921e-01],\n",
              "       [ 1.08060211e+00, -1.28105062e-01],\n",
              "       [ 7.91585200e-01,  1.55696921e-01],\n",
              "       [-1.71804496e-01, -1.91172169e-01],\n",
              "       [-8.46177283e-01, -1.29484655e+00],\n",
              "       [-7.54655262e-02,  9.26298139e-02],\n",
              "       [ 1.46595799e+00, -1.10564522e+00],\n",
              "       [-1.13519419e+00, -8.21843242e-01],\n",
              "       [-5.57160374e-01, -1.61018208e+00],\n",
              "       [ 2.08734434e-02,  6.10962602e-02],\n",
              "       [-2.68143465e-01,  1.87230475e-01],\n",
              "       [ 3.09890352e-01, -5.38041259e-01],\n",
              "       [ 7.91585200e-01,  5.97166672e-01],\n",
              "       [ 7.91585200e-01,  4.07965350e-01],\n",
              "       [ 9.84263140e-01,  1.57470684e+00],\n",
              "       [ 6.95246231e-01, -1.35791365e+00],\n",
              "       [-2.68143465e-01, -5.06507706e-01],\n",
              "       [ 4.06229322e-01, -1.28105062e-01],\n",
              "       [ 3.09890352e-01, -1.23177944e+00],\n",
              "       [ 1.17212413e-01,  3.13364689e-01],\n",
              "       [-1.80956698e+00,  2.18764028e-01],\n",
              "       [ 1.27328005e+00,  2.42611278e+00],\n",
              "       [ 6.95246231e-01,  1.95310948e+00],\n",
              "       [-1.13519419e+00, -1.67324919e+00],\n",
              "       [ 9.84263140e-01,  8.49435102e-01],\n",
              "       [ 1.17212413e-01,  8.49435102e-01],\n",
              "       [ 2.13551383e-01,  6.10962602e-02],\n",
              "       [ 6.95246231e-01, -7.58776135e-01],\n",
              "       [ 1.85131387e+00, -1.13717878e+00],\n",
              "       [-4.60821405e-01, -2.85772830e-01],\n",
              "       [ 3.09890352e-01,  5.65633119e-01],\n",
              "       [ 1.27328005e+00, -1.45251432e+00],\n",
              "       [ 2.13551383e-01,  2.29997857e+00],\n",
              "       [-2.68143465e-01, -6.01108367e-01],\n",
              "       [-6.53499344e-01,  1.55696921e-01],\n",
              "       [ 1.08060211e+00, -9.47977457e-01],\n",
              "       [-4.60821405e-01, -1.29484655e+00],\n",
              "       [ 9.84263140e-01,  1.95310948e+00],\n",
              "       [-1.90590595e+00,  4.07965350e-01],\n",
              "       [ 3.09890352e-01,  9.26298139e-02],\n",
              "       [ 1.65863593e+00,  1.92157593e+00],\n",
              "       [ 4.06229322e-01,  1.87230475e-01],\n",
              "       [-1.13519419e+00,  4.71032458e-01],\n",
              "       [-1.90590595e+00, -5.38041259e-01],\n",
              "       [ 3.09890352e-01, -5.38041259e-01],\n",
              "       [-1.71322801e+00,  4.07965350e-01],\n",
              "       [ 1.17212413e-01, -8.53376796e-01],\n",
              "       [-7.54655262e-02,  7.54834441e-01],\n",
              "       [-8.46177283e-01,  1.87230475e-01],\n",
              "       [ 1.17212413e-01, -2.54239276e-01],\n",
              "       [-1.80956698e+00, -1.51558142e+00],\n",
              "       [ 8.87924170e-01, -1.38944721e+00],\n",
              "       [-1.42421110e+00, -1.91172169e-01],\n",
              "       [ 1.17694108e+00, -1.04257812e+00],\n",
              "       [ 1.94765284e+00, -9.79511010e-01],\n",
              "       [-1.71804496e-01, -2.85772830e-01],\n",
              "       [-7.54655262e-02,  3.44898243e-01],\n",
              "       [ 2.13551383e-01, -6.95709027e-01],\n",
              "       [ 2.08734434e-02,  6.10962602e-02],\n",
              "       [-1.13519419e+00, -1.16871233e+00],\n",
              "       [ 6.95246231e-01, -1.16871233e+00],\n",
              "       [-5.57160374e-01,  1.60624039e+00],\n",
              "       [ 1.27328005e+00,  2.04771014e+00],\n",
              "       [-1.71322801e+00,  5.34099565e-01],\n",
              "       [ 9.84263140e-01, -1.07411167e+00],\n",
              "       [-1.32787213e+00, -4.43440598e-01],\n",
              "       [-1.03885522e+00,  6.60233780e-01],\n",
              "       [ 2.08734434e-02, -2.54239276e-01],\n",
              "       [ 7.91585200e-01,  1.51163973e+00],\n",
              "       [ 2.14033078e+00, -8.53376796e-01],\n",
              "       [ 2.13551383e-01,  2.81831136e-01],\n",
              "       [ 2.13551383e-01, -2.54239276e-01],\n",
              "       [ 1.17212413e-01, -3.17306384e-01],\n",
              "       [-2.68143465e-01, -1.28105062e-01],\n",
              "       [-2.68143465e-01, -1.45251432e+00],\n",
              "       [ 2.13551383e-01, -2.85772830e-01],\n",
              "       [-1.52055007e+00, -1.61018208e+00],\n",
              "       [ 3.09890352e-01,  3.13364689e-01],\n",
              "       [ 2.04399181e+00,  2.33151212e+00],\n",
              "       [ 2.04399181e+00,  5.97166672e-01],\n",
              "       [-4.60821405e-01, -5.69574813e-01],\n",
              "       [-4.60821405e-01,  2.52071345e+00],\n",
              "       [-1.61688904e+00,  9.26298139e-02],\n",
              "       [-4.60821405e-01, -1.20024589e+00],\n",
              "       [-9.42516253e-01, -3.17306384e-01],\n",
              "       [-1.13519419e+00, -5.38041259e-01],\n",
              "       [-2.68143465e-01,  9.26298139e-02],\n",
              "       [-2.68143465e-01, -1.48404787e+00],\n",
              "       [ 1.75497490e+00, -2.85772830e-01],\n",
              "       [ 8.87924170e-01, -6.95709027e-01],\n",
              "       [-1.52055007e+00,  3.76431797e-01],\n",
              "       [-1.13519419e+00,  9.26298139e-02],\n",
              "       [ 9.84263140e-01,  2.26844502e+00],\n",
              "       [ 1.75497490e+00,  2.01617659e+00],\n",
              "       [-2.68143465e-01,  3.13364689e-01],\n",
              "       [ 1.94765284e+00, -1.45251432e+00],\n",
              "       [-6.53499344e-01,  6.28700226e-01],\n",
              "       [ 1.94765284e+00,  8.17901548e-01],\n",
              "       [ 6.95246231e-01,  3.13364689e-01],\n",
              "       [-1.03885522e+00, -3.48839937e-01],\n",
              "       [ 1.08060211e+00,  6.28700226e-01],\n",
              "       [-7.54655262e-02, -5.38041259e-01],\n",
              "       [ 1.85131387e+00,  1.55696921e-01],\n",
              "       [ 1.08060211e+00, -1.29484655e+00],\n",
              "       [ 1.08060211e+00,  5.97166672e-01],\n",
              "       [-1.03885522e+00, -4.74974152e-01],\n",
              "       [ 6.95246231e-01, -1.48404787e+00],\n",
              "       [-7.49838314e-01,  1.48010617e+00],\n",
              "       [ 4.06229322e-01,  1.24163368e-01],\n",
              "       [-1.71804496e-01,  1.54317328e+00],\n",
              "       [-1.32787213e+00, -3.48839937e-01],\n",
              "       [ 3.09890352e-01, -2.85772830e-01],\n",
              "       [-1.61688904e+00, -1.67324919e+00],\n",
              "       [-5.57160374e-01,  9.75569316e-01],\n",
              "       [ 4.06229322e-01, -5.06507706e-01],\n",
              "       [ 1.17212413e-01,  2.50297582e-01],\n",
              "       [-8.46177283e-01, -6.95709027e-01],\n",
              "       [ 8.87924170e-01, -8.21843242e-01],\n",
              "       [ 9.84263140e-01,  6.60233780e-01],\n",
              "       [-7.49838314e-01,  3.44898243e-01],\n",
              "       [ 9.84263140e-01,  2.04771014e+00],\n",
              "       [-2.68143465e-01,  6.91767333e-01],\n",
              "       [ 9.84263140e-01,  2.17384435e+00],\n",
              "       [ 2.13551383e-01,  9.26298139e-02],\n",
              "       [-7.54655262e-02, -1.13717878e+00],\n",
              "       [-1.61688904e+00, -3.35044008e-02],\n",
              "       [ 1.94765284e+00, -6.95709027e-01],\n",
              "       [ 9.84263140e-01, -1.23177944e+00],\n",
              "       [-2.68143465e-01,  1.87230475e-01],\n",
              "       [-1.80956698e+00,  2.95627066e-02],\n",
              "       [-1.71804496e-01,  1.87230475e-01],\n",
              "       [-7.54655262e-02,  3.44898243e-01],\n",
              "       [-1.42421110e+00,  4.07965350e-01],\n",
              "       [ 8.87924170e-01,  2.36304568e+00],\n",
              "       [-7.54655262e-02,  1.87230475e-01],\n",
              "       [-4.60821405e-01, -1.97084710e-03],\n",
              "       [ 4.06229322e-01, -1.28105062e-01],\n",
              "       [-9.42516253e-01,  6.28700226e-01],\n",
              "       [ 9.84263140e-01, -1.26331299e+00],\n",
              "       [-7.54655262e-02,  2.81831136e-01],\n",
              "       [ 4.06229322e-01, -4.74974152e-01],\n",
              "       [ 3.09890352e-01, -7.58776135e-01],\n",
              "       [ 1.17694108e+00,  5.97166672e-01],\n",
              "       [-8.46177283e-01,  3.44898243e-01],\n",
              "       [-7.54655262e-02,  2.95627066e-02],\n",
              "       [ 2.14033078e+00, -8.53376796e-01],\n",
              "       [ 8.87924170e-01,  1.19630419e+00],\n",
              "       [ 8.87924170e-01, -6.01108367e-01],\n",
              "       [-1.03885522e+00,  5.97166672e-01],\n",
              "       [-1.52055007e+00, -1.32638010e+00],\n",
              "       [-7.49838314e-01,  2.07924369e+00],\n",
              "       [-7.54655262e-02,  2.36304568e+00],\n",
              "       [ 1.56229696e+00, -1.35791365e+00],\n",
              "       [-2.68143465e-01,  9.26298139e-02],\n",
              "       [ 3.09890352e-01,  9.26298139e-02],\n",
              "       [-1.23153316e+00,  3.13364689e-01],\n",
              "       [-7.54655262e-02,  1.55696921e-01],\n",
              "       [ 9.84263140e-01, -1.13717878e+00],\n",
              "       [-1.42421110e+00, -6.64175474e-01]])"
            ]
          },
          "metadata": {},
          "execution_count": 70
        }
      ]
    },
    {
      "cell_type": "code",
      "source": [
        "x_cv= Sc.fit_transform(x_cv)"
      ],
      "metadata": {
        "id": "E7AN8ptD4iu6"
      },
      "execution_count": null,
      "outputs": []
    },
    {
      "cell_type": "code",
      "source": [
        "x_t1=Sc.fit_transform(x_t1)"
      ],
      "metadata": {
        "id": "MbMeO9ks5UBY"
      },
      "execution_count": null,
      "outputs": []
    },
    {
      "cell_type": "code",
      "source": [
        "from sklearn.svm import SVC"
      ],
      "metadata": {
        "id": "zah2GO3d5be4"
      },
      "execution_count": null,
      "outputs": []
    },
    {
      "cell_type": "code",
      "source": [
        "classifier= SVC(kernel='linear',random_state=0)"
      ],
      "metadata": {
        "id": "gzkarXU05lbP"
      },
      "execution_count": null,
      "outputs": []
    },
    {
      "cell_type": "code",
      "source": [
        "classifier.fit(x_train,y_train)"
      ],
      "metadata": {
        "colab": {
          "base_uri": "https://localhost:8080/"
        },
        "id": "HEGM8ejq50i2",
        "outputId": "773cc230-6eac-4367-e7ef-b186a0107718"
      },
      "execution_count": null,
      "outputs": [
        {
          "output_type": "execute_result",
          "data": {
            "text/plain": [
              "SVC(kernel='linear', random_state=0)"
            ]
          },
          "metadata": {},
          "execution_count": 78
        }
      ]
    },
    {
      "cell_type": "code",
      "source": [
        "y_pre= classifier.predict(x_cv)"
      ],
      "metadata": {
        "id": "tMKArCIS6Bhu"
      },
      "execution_count": null,
      "outputs": []
    },
    {
      "cell_type": "code",
      "source": [
        "y_pre"
      ],
      "metadata": {
        "colab": {
          "base_uri": "https://localhost:8080/"
        },
        "id": "7jOojt7R6V9V",
        "outputId": "7a722c22-45ef-4238-9eec-b275c77fb2b8"
      },
      "execution_count": null,
      "outputs": [
        {
          "output_type": "execute_result",
          "data": {
            "text/plain": [
              "array([0, 0, 0, 0, 1, 0, 0, 0, 0, 0, 1, 0, 0, 0, 0, 0, 0, 1, 0, 1, 0, 0,\n",
              "       0, 1, 0, 0, 0, 0, 1, 1, 0, 0, 1, 0, 1, 0, 0, 0, 0, 1, 0, 0, 1, 0,\n",
              "       0, 1, 0, 0, 0, 0, 0, 1, 1, 0, 0, 0, 0, 1, 0, 1, 0, 0, 0, 0, 1, 0,\n",
              "       0, 0, 0, 0, 0, 1, 0, 0, 0, 0, 0, 0, 1, 1])"
            ]
          },
          "metadata": {},
          "execution_count": 81
        }
      ]
    },
    {
      "cell_type": "code",
      "source": [
        "y_cv"
      ],
      "metadata": {
        "colab": {
          "base_uri": "https://localhost:8080/"
        },
        "id": "ekHkcJVs6iaN",
        "outputId": "2fd03931-2fea-4260-ebf5-aa7c7e6c1033"
      },
      "execution_count": null,
      "outputs": [
        {
          "output_type": "execute_result",
          "data": {
            "text/plain": [
              "array([0, 0, 0, 0, 1, 0, 0, 0, 0, 0, 0, 1, 1, 0, 0, 0, 0, 1, 0, 1, 0, 0,\n",
              "       0, 0, 1, 1, 0, 0, 1, 1, 0, 0, 1, 0, 1, 0, 0, 0, 0, 1, 0, 0, 1, 0,\n",
              "       0, 1, 0, 0, 0, 0, 0, 1, 1, 0, 0, 0, 1, 1, 0, 1, 0, 0, 0, 0, 0, 0,\n",
              "       0, 0, 0, 0, 0, 1, 0, 0, 1, 0, 1, 0, 1, 0])"
            ]
          },
          "metadata": {},
          "execution_count": 83
        }
      ]
    },
    {
      "cell_type": "code",
      "source": [
        "from sklearn.metrics import confusion_matrix,accuracy_score"
      ],
      "metadata": {
        "id": "V2sHytJm6nLv"
      },
      "execution_count": null,
      "outputs": []
    },
    {
      "cell_type": "code",
      "source": [
        "confusion_matrix(y_cv,y_pre)"
      ],
      "metadata": {
        "colab": {
          "base_uri": "https://localhost:8080/"
        },
        "id": "O0kq9suO67Ms",
        "outputId": "a3d3bee2-0208-4db9-db91-1e2786a03969"
      },
      "execution_count": null,
      "outputs": [
        {
          "output_type": "execute_result",
          "data": {
            "text/plain": [
              "array([[53,  4],\n",
              "       [ 7, 16]])"
            ]
          },
          "metadata": {},
          "execution_count": 86
        }
      ]
    },
    {
      "cell_type": "code",
      "source": [
        "accuracy_score(y_pre,y_cv)"
      ],
      "metadata": {
        "colab": {
          "base_uri": "https://localhost:8080/"
        },
        "id": "Va2u9pFw7CJ7",
        "outputId": "6a429cda-8c03-4f25-ee13-8a56608200a5"
      },
      "execution_count": null,
      "outputs": [
        {
          "output_type": "execute_result",
          "data": {
            "text/plain": [
              "0.8625"
            ]
          },
          "metadata": {},
          "execution_count": 87
        }
      ]
    },
    {
      "cell_type": "code",
      "source": [
        "poly_classifier= SVC(kernel='poly',random_state=45)\n",
        "poly_classifier.fit(x_train,y_train)\n"
      ],
      "metadata": {
        "colab": {
          "base_uri": "https://localhost:8080/"
        },
        "id": "NmzTnSdZ7s9r",
        "outputId": "263fee92-b83a-43c9-e543-62373d8bfb10"
      },
      "execution_count": null,
      "outputs": [
        {
          "output_type": "execute_result",
          "data": {
            "text/plain": [
              "SVC(kernel='poly', random_state=45)"
            ]
          },
          "metadata": {},
          "execution_count": 96
        }
      ]
    },
    {
      "cell_type": "code",
      "source": [
        "y_pred_1= poly_classifier.predict(x_cv)\n",
        "confusion_matrix(y_cv,y_pred_1)\n",
        "accuracy_score(y_pred_1,y_cv)\n",
        "\n"
      ],
      "metadata": {
        "colab": {
          "base_uri": "https://localhost:8080/"
        },
        "id": "lKpiVwj57-RG",
        "outputId": "bd9d87d7-9465-47e3-afd3-40236e3572f5"
      },
      "execution_count": null,
      "outputs": [
        {
          "output_type": "execute_result",
          "data": {
            "text/plain": [
              "0.8"
            ]
          },
          "metadata": {},
          "execution_count": 101
        }
      ]
    },
    {
      "cell_type": "code",
      "source": [
        "rbf_classifier= SVC(kernel='rbf', gamma = 2,random_state=45)\n",
        "rbf_classifier.fit(x_train,y_train)\n",
        "y_pred= rbf_classifier.predict(x_cv)\n",
        "print(confusion_matrix(y_cv,y_pred_1))\n",
        "print(accuracy_score(y_pred,y_cv))"
      ],
      "metadata": {
        "colab": {
          "base_uri": "https://localhost:8080/"
        },
        "id": "MRabuN0_8ild",
        "outputId": "33fcd457-5a5e-4735-c65a-7ac0b82bf808"
      },
      "execution_count": null,
      "outputs": [
        {
          "output_type": "stream",
          "name": "stdout",
          "text": [
            "[[53  4]\n",
            " [12 11]]\n",
            "0.85\n"
          ]
        }
      ]
    },
    {
      "cell_type": "code",
      "source": [],
      "metadata": {
        "id": "_txK-mbG92Mz"
      },
      "execution_count": null,
      "outputs": []
    }
  ]
}